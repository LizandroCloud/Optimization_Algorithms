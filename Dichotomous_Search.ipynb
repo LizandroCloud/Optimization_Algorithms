{
  "nbformat": 4,
  "nbformat_minor": 0,
  "metadata": {
    "colab": {
      "provenance": [],
      "authorship_tag": "ABX9TyPfzROEfzC8UGRlNyBxHR2y",
      "include_colab_link": true
    },
    "kernelspec": {
      "name": "python3",
      "display_name": "Python 3"
    },
    "language_info": {
      "name": "python"
    }
  },
  "cells": [
    {
      "cell_type": "markdown",
      "metadata": {
        "id": "view-in-github",
        "colab_type": "text"
      },
      "source": [
        "<a href=\"https://colab.research.google.com/github/LizandroCloud/Optimization_Algorithms/blob/main/Dichotomous_Search.ipynb\" target=\"_parent\"><img src=\"https://colab.research.google.com/assets/colab-badge.svg\" alt=\"Open In Colab\"/></a>"
      ]
    },
    {
      "cell_type": "markdown",
      "source": [
        "### Dichotomous Search"
      ],
      "metadata": {
        "id": "makrWdwYhYKz"
      }
    },
    {
      "cell_type": "markdown",
      "source": [
        "Consider a unimodal function which is known to have a minimum in the\n",
        "interval $[x_L, x_U].$ The minimizer can be identified by reducing the interval until a small change be attained. If the value of $f(x)$ is known at a single point $x_a$, in which $x_L<x_a<x_U$, the optimum point $ x^* $ is encountered between $[x_L, x_a]$ or $[x_a, x_U]$. The Figure 1 illustrates it."
      ],
      "metadata": {
        "id": "VqL2zUGphW7m"
      }
    }
  ]
}